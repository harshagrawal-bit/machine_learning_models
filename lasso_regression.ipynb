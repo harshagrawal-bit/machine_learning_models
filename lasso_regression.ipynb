{
 "cells": [
  {
   "cell_type": "code",
   "execution_count": null,
   "id": "f5204c3d",
   "metadata": {},
   "outputs": [],
   "source": [
    "import numpy as np\n",
    "\n",
    "#Linear_Regression from scratch\n",
    "class Linear_Regression():\n",
    "    def __init__(self , learning_rate , no_of_iteartions , lambda_parameter):\n",
    "        self.learning_rate = learning_rate\n",
    "        self.no_of_iterations = no_of_iteartions\n",
    "        self.lambda_parameter = lambda_parameter\n",
    "\n",
    "    def fit(self ,X ,Y):\n",
    "        self.m ,self.n = X.shape\n",
    "\n",
    "        self.w = np.zeros(self.n)\n",
    "        self.b = 0\n",
    "        self.X=X\n",
    "        self.Y=Y\n",
    "\n",
    "\n",
    "        for i in range(self.no_of_iterations):\n",
    "            self.update_weights()\n",
    "\n",
    "    def update_weights(self):\n",
    "\n",
    "        Y_prediction = self.predict(self.X)\n",
    "        for i in range(self.n):\n",
    "            \n",
    "            if self.w[i]>0:\n",
    "                dw[i] = -(2*(self.X[:,i]).dot(self.Y - Y_prediction) + self.lambda_parameter)/self.m\n",
    "\n",
    "            else:\n",
    "                dw[i] = -(2*(self.X[:,i]).dot(self.Y - Y_prediction) - self.lambda_parameter)/self.m\n",
    "             \n",
    "        db = -(2* np.sum(self.Y - Y_prediction))/self.m \n",
    "\n",
    "        self.w = self.w - self.learning_rate*dw\n",
    "        self.b = self.b - self.learning_rate*db\n",
    "        \n",
    "\n",
    "\n",
    "    def predict(self , X):\n",
    "\n",
    "        return X.dot(self.w)  + self.b\n",
    "    \n",
    "\n",
    "    \n",
    "        \n",
    "    \n"
   ]
  }
 ],
 "metadata": {
  "kernelspec": {
   "display_name": "Python 3",
   "language": "python",
   "name": "python3"
  },
  "language_info": {
   "codemirror_mode": {
    "name": "ipython",
    "version": 3
   },
   "file_extension": ".py",
   "mimetype": "text/x-python",
   "name": "python",
   "nbconvert_exporter": "python",
   "pygments_lexer": "ipython3",
   "version": "3.13.7"
  }
 },
 "nbformat": 4,
 "nbformat_minor": 5
}
